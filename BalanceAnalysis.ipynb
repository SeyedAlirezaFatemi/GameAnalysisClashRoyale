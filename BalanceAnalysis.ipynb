{
 "cells": [
  {
   "cell_type": "markdown",
   "metadata": {
    "id": "t2JUaefCyzou"
   },
   "source": [
    "# Clash Royale card balance analysis"
   ]
  },
  {
   "cell_type": "markdown",
   "metadata": {},
   "source": [
    "Load extensions"
   ]
  },
  {
   "cell_type": "code",
   "execution_count": 1,
   "metadata": {},
   "outputs": [
    {
     "data": {
      "text/html": [
       "\n",
       "                <script type=\"application/javascript\" id=\"jupyter_black\">\n",
       "                (function() {\n",
       "                    if (window.IPython === undefined) {\n",
       "                        return\n",
       "                    }\n",
       "                    var msg = \"WARNING: it looks like you might have loaded \" +\n",
       "                        \"jupyter_black in a non-lab notebook with \" +\n",
       "                        \"`is_lab=True`. Please double check, and if \" +\n",
       "                        \"loading with `%load_ext` please review the README!\"\n",
       "                    console.log(msg)\n",
       "                    alert(msg)\n",
       "                })()\n",
       "                </script>\n",
       "                "
      ],
      "text/plain": [
       "<IPython.core.display.HTML object>"
      ]
     },
     "metadata": {},
     "output_type": "display_data"
    }
   ],
   "source": [
    "%load_ext jupyter_black\n",
    "%load_ext autoreload\n",
    "%autoreload 2"
   ]
  },
  {
   "cell_type": "markdown",
   "metadata": {},
   "source": [
    "Import libraries"
   ]
  },
  {
   "cell_type": "code",
   "execution_count": 2,
   "metadata": {
    "id": "cX-b1_bKxYNc"
   },
   "outputs": [],
   "source": [
    "import json, re, os, copy\n",
    "\n",
    "import numpy as np\n",
    "import matplotlib.pyplot as plt\n",
    "import seaborn as sn\n",
    "import matplotlib.pyplot as plt\n",
    "import pandas as pd\n",
    "\n",
    "from typing import Union\n",
    "\n",
    "from tqdm import tqdm"
   ]
  },
  {
   "cell_type": "markdown",
   "metadata": {},
   "source": [
    "## Load Raw Data"
   ]
  },
  {
   "cell_type": "markdown",
   "metadata": {},
   "source": [
    "Read the raw data crawled by scrapy."
   ]
  },
  {
   "cell_type": "code",
   "execution_count": 3,
   "metadata": {},
   "outputs": [],
   "source": [
    "with open(os.path.join(\"cards\", \"cards.json\")) as f:\n",
    "    raw_cards = json.load(f)"
   ]
  },
  {
   "cell_type": "code",
   "execution_count": 4,
   "metadata": {},
   "outputs": [],
   "source": [
    "categories = [\n",
    "    \"Troops\",\n",
    "    \"Defensive Buildings\",\n",
    "    \"Passive Buildings\",\n",
    "    \"Damaging Spells\",\n",
    "    \"Spawners\",\n",
    "]\n",
    "NA = \"N/A\""
   ]
  },
  {
   "cell_type": "code",
   "execution_count": 5,
   "metadata": {},
   "outputs": [],
   "source": [
    "category_index = -1\n",
    "columns = []\n",
    "cards = {category: [] for category in categories}\n",
    "ignore = set(\n",
    "    [\n",
    "        \"Inferno Dragon\",\n",
    "        \"Mighty Miner\",\n",
    "        \"Goblin Gang\",\n",
    "        \"Ram Rider\",\n",
    "        \"Monk\",\n",
    "        \"Inferno Tower\",\n",
    "        \"Mortar\",\n",
    "    ]\n",
    ")  # Problematic cards. Advanced attacks.\n",
    "extra_details = dict()\n",
    "for row in raw_cards:\n",
    "    if \"EXTRA\" in row:\n",
    "        row.pop(\"EXTRA\")\n",
    "        extra_details[row[\"Card\"]] = row\n",
    "        row.pop(\"Card\")\n",
    "    elif \"columns\" in row:\n",
    "        category_index += 1\n",
    "        columns = row[\"columns\"]\n",
    "    else:\n",
    "        if row[\"Card\"] in ignore:\n",
    "            continue\n",
    "        cards[categories[category_index]].append(row)"
   ]
  },
  {
   "cell_type": "code",
   "execution_count": 6,
   "metadata": {},
   "outputs": [
    {
     "data": {
      "text/plain": [
       "({'Cost': '3',\n",
       "  'Hit Speed': '0.9 sec',\n",
       "  'Speed': 'Medium (60)',\n",
       "  'Deploy Time': '1 sec',\n",
       "  'Range': '5',\n",
       "  'Target': 'Air & Ground',\n",
       "  'Count': 'x2',\n",
       "  'Transport': 'Ground'},\n",
       " {'Card': 'Archers',\n",
       "  'Cost': '3',\n",
       "  'Health (+Shield)': '304',\n",
       "  'Damage': '107',\n",
       "  'Hit Speed (seconds)': '1.1',\n",
       "  'Damage per Second': '97',\n",
       "  'Spawn/Death Damage': '0',\n",
       "  'Range': '5',\n",
       "  'Count': '2'},\n",
       " {'Card': 'Bomb Tower',\n",
       "  'Cost': '4',\n",
       "  'Health': '1,356',\n",
       "  'Lifetime': '30',\n",
       "  'Damage': '222',\n",
       "  'Hit Speed': '1.6',\n",
       "  'Damage per Second': '139',\n",
       "  'Range': '6'})"
      ]
     },
     "execution_count": 6,
     "metadata": {},
     "output_type": "execute_result"
    }
   ],
   "source": [
    "extra_details[\"Archers\"], cards[\"Troops\"][0], cards[\"Defensive Buildings\"][0]"
   ]
  },
  {
   "cell_type": "markdown",
   "metadata": {},
   "source": [
    "## Convert Data"
   ]
  },
  {
   "cell_type": "markdown",
   "metadata": {},
   "source": [
    "Convert the raw data fields to usable int and float types for the troops."
   ]
  },
  {
   "cell_type": "code",
   "execution_count": 7,
   "metadata": {},
   "outputs": [],
   "source": [
    "troops = cards[\"Troops\"]\n",
    "defensive_buildings = cards[\"Defensive Buildings\"]"
   ]
  },
  {
   "cell_type": "code",
   "execution_count": 8,
   "metadata": {},
   "outputs": [
    {
     "data": {
      "text/plain": [
       "({'Card': 'Archers',\n",
       "  'Cost': '3',\n",
       "  'Health (+Shield)': '304',\n",
       "  'Damage': '107',\n",
       "  'Hit Speed (seconds)': '1.1',\n",
       "  'Damage per Second': '97',\n",
       "  'Spawn/Death Damage': '0',\n",
       "  'Range': '5',\n",
       "  'Count': '2'},\n",
       " {'Card': 'Bomb Tower',\n",
       "  'Cost': '4',\n",
       "  'Health': '1,356',\n",
       "  'Lifetime': '30',\n",
       "  'Damage': '222',\n",
       "  'Hit Speed': '1.6',\n",
       "  'Damage per Second': '139',\n",
       "  'Range': '6'})"
      ]
     },
     "execution_count": 8,
     "metadata": {},
     "output_type": "execute_result"
    }
   ],
   "source": [
    "troops[0], defensive_buildings[0]"
   ]
  },
  {
   "cell_type": "code",
   "execution_count": 9,
   "metadata": {},
   "outputs": [],
   "source": [
    "def convert_to_int(val: str) -> Union[str, int]:\n",
    "    return int(val) if val != NA else val\n",
    "\n",
    "\n",
    "def convert_to_float(val: str) -> Union[str, float]:\n",
    "    return float(val) if val != NA else val"
   ]
  },
  {
   "cell_type": "code",
   "execution_count": 10,
   "metadata": {},
   "outputs": [],
   "source": [
    "health_regex = re.compile(\"(\\d+)\\s?(?:\\(\\+(\\d+)\\))?\")\n",
    "spawn_death_damage_regex = re.compile(\"(\\d+).*\")\n",
    "range_regex = re.compile(\"([+-]?[0-9]*[.]?[0-9]+).*\")\n",
    "damage_regex = re.compile(\"([+-]?[0-9]*[.]?[0-9]+)(\\s*\\(x(\\d)\\))?\")\n",
    "speed_regex = re.compile(\"[a-zA-z\\s]+ \\(([0-9]+)\\)\")\n",
    "for troop in troops:\n",
    "    tmp = troop[\"Health (+Shield)\"].replace(\",\", \"\")\n",
    "    match = health_regex.match(tmp)\n",
    "    troop[\"Health (+Shield)\"] = sum(\n",
    "        map(lambda x: int(x) if x is not None else 0, match.groups())\n",
    "    )\n",
    "    tmp = troop[\"Spawn/Death Damage\"].replace(\",\", \"\")\n",
    "    match = spawn_death_damage_regex.match(tmp)\n",
    "    troop[\"Spawn/Death Damage\"] = int(match.groups()[0])\n",
    "\n",
    "    tmp = troop[\"Range\"]\n",
    "    match = range_regex.match(tmp)\n",
    "    troop[\"Range\"] = float(match.groups()[0])\n",
    "\n",
    "    tmp = troop[\"Damage\"]\n",
    "    match = damage_regex.match(tmp)\n",
    "    troop[\"Damage\"] = int(match.groups()[0])\n",
    "    if len(match.groups()) > 1 and match.groups()[-1] is not None:\n",
    "        troop[\"Targets\"] = int(match.groups()[-1])\n",
    "    else:\n",
    "        troop[\"Targets\"] = 1\n",
    "\n",
    "    tmp = troop[\"Damage per Second\"]\n",
    "    if tmp != NA:\n",
    "        match = damage_regex.match(tmp)\n",
    "        troop[\"Damage per Second\"] = float(match.groups()[0])\n",
    "\n",
    "    troop[\"Hit Speed (seconds)\"] = convert_to_float(troop[\"Hit Speed (seconds)\"])\n",
    "    troop[\"Count\"] = convert_to_int(troop[\"Count\"])\n",
    "    troop[\"Cost\"] = convert_to_int(troop[\"Cost\"])\n",
    "\n",
    "    try:\n",
    "        speed = extra_details[troop[\"Card\"]][\"Speed\"]\n",
    "        troop[\"Speed\"] = int(speed_regex.match(speed).groups()[0]) / 60\n",
    "    except KeyError:\n",
    "        troop[\"Speed\"] = NA"
   ]
  },
  {
   "cell_type": "code",
   "execution_count": 11,
   "metadata": {},
   "outputs": [],
   "source": [
    "def get_df(data_dict: list[dict], keys: list[str]) -> tuple[list[dict], pd.DataFrame]:\n",
    "    \"\"\"Get a clean subset of the data with the mentioned keys and return them.\"\"\"\n",
    "    chosen = []\n",
    "    for troop in troops:\n",
    "        tmp_troop = dict()\n",
    "        ignore = False\n",
    "        for key in keys:\n",
    "            if troop[key] == NA:\n",
    "                ignore = True\n",
    "                break\n",
    "            tmp_troop[key] = troop[key]\n",
    "        if ignore:\n",
    "            continue\n",
    "        chosen.append(tmp_troop)\n",
    "    return chosen, pd.DataFrame(chosen)"
   ]
  },
  {
   "cell_type": "code",
   "execution_count": 12,
   "metadata": {},
   "outputs": [],
   "source": [
    "clean_troops, troops_df = get_df(\n",
    "    troops,\n",
    "    [\n",
    "        \"Card\",\n",
    "        \"Count\",\n",
    "        \"Cost\",\n",
    "        \"Health (+Shield)\",\n",
    "        \"Damage per Second\",\n",
    "        \"Hit Speed (seconds)\",\n",
    "        \"Speed\",\n",
    "        \"Range\",\n",
    "        \"Targets\",\n",
    "    ],\n",
    ")"
   ]
  },
  {
   "cell_type": "code",
   "execution_count": 13,
   "metadata": {},
   "outputs": [
    {
     "data": {
      "text/html": [
       "<div>\n",
       "<style scoped>\n",
       "    .dataframe tbody tr th:only-of-type {\n",
       "        vertical-align: middle;\n",
       "    }\n",
       "\n",
       "    .dataframe tbody tr th {\n",
       "        vertical-align: top;\n",
       "    }\n",
       "\n",
       "    .dataframe thead th {\n",
       "        text-align: right;\n",
       "    }\n",
       "</style>\n",
       "<table border=\"1\" class=\"dataframe\">\n",
       "  <thead>\n",
       "    <tr style=\"text-align: right;\">\n",
       "      <th></th>\n",
       "      <th>Card</th>\n",
       "      <th>Count</th>\n",
       "      <th>Cost</th>\n",
       "      <th>Health (+Shield)</th>\n",
       "      <th>Damage per Second</th>\n",
       "      <th>Hit Speed (seconds)</th>\n",
       "      <th>Speed</th>\n",
       "      <th>Range</th>\n",
       "      <th>Targets</th>\n",
       "    </tr>\n",
       "  </thead>\n",
       "  <tbody>\n",
       "    <tr>\n",
       "      <th>0</th>\n",
       "      <td>Archers</td>\n",
       "      <td>2</td>\n",
       "      <td>3</td>\n",
       "      <td>304</td>\n",
       "      <td>97.0</td>\n",
       "      <td>1.1</td>\n",
       "      <td>1.0</td>\n",
       "      <td>5.00</td>\n",
       "      <td>1</td>\n",
       "    </tr>\n",
       "    <tr>\n",
       "      <th>1</th>\n",
       "      <td>Archer Queen</td>\n",
       "      <td>1</td>\n",
       "      <td>5</td>\n",
       "      <td>1000</td>\n",
       "      <td>188.0</td>\n",
       "      <td>1.2</td>\n",
       "      <td>1.0</td>\n",
       "      <td>5.00</td>\n",
       "      <td>1</td>\n",
       "    </tr>\n",
       "    <tr>\n",
       "      <th>2</th>\n",
       "      <td>Baby Dragon</td>\n",
       "      <td>1</td>\n",
       "      <td>4</td>\n",
       "      <td>1152</td>\n",
       "      <td>107.0</td>\n",
       "      <td>1.5</td>\n",
       "      <td>1.5</td>\n",
       "      <td>3.50</td>\n",
       "      <td>1</td>\n",
       "    </tr>\n",
       "    <tr>\n",
       "      <th>3</th>\n",
       "      <td>Balloon</td>\n",
       "      <td>1</td>\n",
       "      <td>5</td>\n",
       "      <td>1680</td>\n",
       "      <td>320.0</td>\n",
       "      <td>2.0</td>\n",
       "      <td>1.0</td>\n",
       "      <td>0.10</td>\n",
       "      <td>1</td>\n",
       "    </tr>\n",
       "    <tr>\n",
       "      <th>4</th>\n",
       "      <td>Bandit</td>\n",
       "      <td>1</td>\n",
       "      <td>3</td>\n",
       "      <td>907</td>\n",
       "      <td>193.0</td>\n",
       "      <td>1.0</td>\n",
       "      <td>1.5</td>\n",
       "      <td>0.75</td>\n",
       "      <td>1</td>\n",
       "    </tr>\n",
       "  </tbody>\n",
       "</table>\n",
       "</div>"
      ],
      "text/plain": [
       "           Card  Count  Cost  Health (+Shield)  Damage per Second  \\\n",
       "0       Archers      2     3               304               97.0   \n",
       "1  Archer Queen      1     5              1000              188.0   \n",
       "2   Baby Dragon      1     4              1152              107.0   \n",
       "3       Balloon      1     5              1680              320.0   \n",
       "4        Bandit      1     3               907              193.0   \n",
       "\n",
       "   Hit Speed (seconds)  Speed  Range  Targets  \n",
       "0                  1.1    1.0   5.00        1  \n",
       "1                  1.2    1.0   5.00        1  \n",
       "2                  1.5    1.5   3.50        1  \n",
       "3                  2.0    1.0   0.10        1  \n",
       "4                  1.0    1.5   0.75        1  "
      ]
     },
     "execution_count": 13,
     "metadata": {},
     "output_type": "execute_result"
    }
   ],
   "source": [
    "troops_df.head()"
   ]
  },
  {
   "cell_type": "markdown",
   "metadata": {},
   "source": [
    "## Troop vs. Troop Battle Simulation"
   ]
  },
  {
   "cell_type": "code",
   "execution_count": 14,
   "metadata": {},
   "outputs": [],
   "source": [
    "from dataclasses import dataclass\n",
    "\n",
    "\n",
    "@dataclass\n",
    "class Troop:\n",
    "    \"\"\"Class for keeping track of a troop.\"\"\"\n",
    "\n",
    "    name: str\n",
    "    cost: int\n",
    "    health: int\n",
    "    count: int\n",
    "    damage_per_second: float\n",
    "    hit_speed: float\n",
    "    troop_range: float\n",
    "    count: int\n",
    "    speed: float\n",
    "    targets: int\n",
    "    position: int  # Assume troops are on two ends of an straight line"
   ]
  },
  {
   "cell_type": "code",
   "execution_count": 15,
   "metadata": {},
   "outputs": [],
   "source": [
    "def convert_to_dataclass(troop_dict: dict) -> Troop:\n",
    "    return Troop(\n",
    "        troop_dict[\"Card\"],\n",
    "        troop_dict[\"Cost\"],\n",
    "        troop_dict[\"Health (+Shield)\"],\n",
    "        troop_dict[\"Count\"],\n",
    "        troop_dict[\"Damage per Second\"],\n",
    "        troop_dict[\"Hit Speed (seconds)\"],\n",
    "        troop_dict[\"Range\"],\n",
    "        troop_dict[\"Speed\"],\n",
    "        troop_dict[\"Targets\"],\n",
    "        0,\n",
    "    )"
   ]
  },
  {
   "cell_type": "code",
   "execution_count": 16,
   "metadata": {},
   "outputs": [
    {
     "name": "stderr",
     "output_type": "stream",
     "text": [
      "100%|█████████████████████████████████████████████████| 63/63 [00:00<00:00, 756.09it/s]\n"
     ]
    }
   ],
   "source": [
    "# Simulation loop\n",
    "results = np.zeros((len(clean_troops), len(clean_troops)))\n",
    "for current_idx in tqdm(range(len(clean_troops))):\n",
    "    for next_idx in range(current_idx + 1, len(clean_troops)):\n",
    "        # current_idx = 57\n",
    "        # next_idx = 0\n",
    "        left = convert_to_dataclass(clean_troops[current_idx])\n",
    "        right = convert_to_dataclass(clean_troops[next_idx])\n",
    "        right.position = 32\n",
    "        lefts = []\n",
    "        rights = []\n",
    "        for i in range(left.count):\n",
    "            lefts.append(copy.copy(left))\n",
    "\n",
    "        for i in range(right.count):\n",
    "            rights.append(copy.copy(right))\n",
    "\n",
    "        winner = None\n",
    "        right_name = right.name\n",
    "        left_name = left.name\n",
    "        while winner is None:\n",
    "            distance = abs(lefts[0].position - rights[0].position)\n",
    "\n",
    "            # print(distance)\n",
    "            # print(rights)\n",
    "            # print(lefts)\n",
    "            # print(\"+_+\")\n",
    "            if rights[0].troop_range < distance:\n",
    "                if rights[0].troop_range + rights[0].speed < distance:\n",
    "                    # Move towards left\n",
    "                    for right in rights:\n",
    "                        right.position -= right.speed\n",
    "                else:\n",
    "                    for right in rights:\n",
    "                        right.position -= (\n",
    "                            distance - right.troop_range + 0.1\n",
    "                        )  # To fix some floating point error\n",
    "            else:\n",
    "                # Attack left\n",
    "                for idx, right in enumerate(rights):\n",
    "                    for i in range(min(right.targets, len(lefts))):\n",
    "                        lefts[i].health -= right.damage_per_second\n",
    "            new_distance = abs(lefts[0].position - rights[0].position)\n",
    "            if lefts[0].troop_range < new_distance:\n",
    "                if lefts[0].troop_range + lefts[0].speed < new_distance:\n",
    "                    # Move towards right\n",
    "                    for left in lefts:\n",
    "                        left.position += left.speed\n",
    "                else:\n",
    "                    for left in lefts:\n",
    "                        left.position += (\n",
    "                            new_distance - left.troop_range + 0.1\n",
    "                        )  # To fix some floating point error\n",
    "            elif lefts[0].troop_range < distance:\n",
    "                pass\n",
    "            else:\n",
    "                # Attack right\n",
    "                for idx, left in enumerate(lefts):\n",
    "                    for i in range(min(left.targets, len(rights))):\n",
    "                        rights[i].health -= left.damage_per_second\n",
    "            lefts = list(filter(lambda tr: tr.health > 0, lefts))\n",
    "            rights = list(filter(lambda tr: tr.health > 0, rights))\n",
    "            if len(lefts) == 0 and len(rights) == 0:\n",
    "                winner = \"Draw\"\n",
    "                results[current_idx, next_idx] = 2\n",
    "                results[next_idx, current_idx] = 2\n",
    "            elif len(rights) == 0:\n",
    "                winner = left_name\n",
    "                results[current_idx, next_idx] = 1\n",
    "                results[next_idx, current_idx] = 0\n",
    "            elif len(lefts) == 0:\n",
    "                winner = right_name\n",
    "                results[current_idx, next_idx] = 0\n",
    "                results[next_idx, current_idx] = 1\n",
    "\n",
    "        # print(f\"{left_name} vs {right_name}: {winner}\")"
   ]
  },
  {
   "cell_type": "code",
   "execution_count": 17,
   "metadata": {},
   "outputs": [
    {
     "data": {
      "image/png": "[encoded data removed]",
      "text/plain": [
       "<Figure size 1440x1440 with 2 Axes>"
      ]
     },
     "metadata": {
      "needs_background": "light"
     },
     "output_type": "display_data"
    }
   ],
   "source": [
    "df_cm = pd.DataFrame(\n",
    "    results,\n",
    "    index=[troop[\"Card\"] for troop in clean_troops],\n",
    "    columns=[troop[\"Card\"] for troop in clean_troops],\n",
    ")\n",
    "plt.figure(figsize=(20, 20))\n",
    "ax = sn.heatmap(df_cm)\n",
    "colorbar = ax.collections[0].colorbar\n",
    "colorbar.set_ticks([0, 1, 2])\n",
    "colorbar.set_ticklabels([\"Lose\", \"Win\", \"Draw\"])"
   ]
  },
  {
   "cell_type": "code",
   "execution_count": 18,
   "metadata": {},
   "outputs": [
    {
     "name": "stdout",
     "output_type": "stream",
     "text": [
      "Most powerful cards:\n",
      "['Three Musketeers' 'Royal Recruits' 'Barbarians' 'P.E.K.K.A.'\n",
      " 'Elite Barbarians' 'Sparky' 'Royal Giant' 'Giant' 'Giant Skeleton'\n",
      " 'Golem' 'Mega Knight' 'Cannon Cart' 'Prince' 'Royal Hogs'\n",
      " 'Mini P.E.K.K.A.' 'Hunter' 'Balloon' 'Goblin Giant' 'Golden Knight'\n",
      " 'Lumberjack' 'Valkyrie' 'Hog Rider' 'Bowler' 'Skeleton King' 'Musketeer'\n",
      " 'Archer Queen' 'Executioner' 'Electro Giant' 'Dark Prince' 'Knight'\n",
      " 'Goblins' 'Zappies' 'Wizard' 'Guards' 'Elixir Golem' 'Phoenix' 'Miner'\n",
      " 'Archers' 'Flying Machine' 'Lava Hound' 'Battle Healer' 'Royal Ghost'\n",
      " 'Baby Dragon' 'Electro Wizard' 'Skeleton Dragons' 'Witch' 'Magic Archer'\n",
      " 'Night Witch' 'Bandit' 'Dart Goblin' 'Minions' 'Electro Dragon' 'Bats'\n",
      " 'Mega Minion' 'Firecracker' 'Fisherman' 'Mother Witch' 'Spear Goblins'\n",
      " 'Bomber' 'Ice Wizard' 'Princess' 'Ice Golem' 'Skeletons']\n"
     ]
    }
   ],
   "source": [
    "results[results == 2] = 0\n",
    "print(\"Most powerful cards:\")\n",
    "print(\n",
    "    np.array([troop[\"Card\"] for troop in clean_troops])[\n",
    "        np.argsort(-np.sum(results, axis=1))\n",
    "    ]\n",
    ")"
   ]
  },
  {
   "cell_type": "markdown",
   "metadata": {
    "id": "Bc0yjtuz0q2n",
    "tags": []
   },
   "source": [
    "### Analyzing cost and benefit of cards using scatter plots and correlation"
   ]
  },
  {
   "cell_type": "code",
   "execution_count": 19,
   "metadata": {
    "colab": {
     "base_uri": "https://localhost:8080/",
     "height": 297
    },
    "id": "VrCaot9j2YZ3",
    "outputId": "88591ad3-57d0-4565-e79d-67b2fff8ec9e"
   },
   "outputs": [
    {
     "name": "stdout",
     "output_type": "stream",
     "text": [
      "Correlation: 0.669064739963146\n"
     ]
    },
    {
     "data": {
      "image/png": "[encoded data removed]",
      "text/plain": [
       "<Figure size 432x288 with 1 Axes>"
      ]
     },
     "metadata": {
      "needs_background": "light"
     },
     "output_type": "display_data"
    }
   ],
   "source": [
    "_, subset = get_df(troops, [\"Health (+Shield)\", \"Cost\"])\n",
    "subset.plot.scatter(x=\"Cost\", y=\"Health (+Shield)\")\n",
    "print(\"Correlation:\", subset[\"Cost\"].corr(subset[\"Health (+Shield)\"]))"
   ]
  },
  {
   "cell_type": "code",
   "execution_count": 20,
   "metadata": {
    "colab": {
     "base_uri": "https://localhost:8080/",
     "height": 296
    },
    "id": "eYVd5LM0Eb8d",
    "outputId": "6d7bad05-91c3-4342-fa90-deaf95888d19"
   },
   "outputs": [
    {
     "name": "stdout",
     "output_type": "stream",
     "text": [
      "Correlation: 0.24382992188036215\n"
     ]
    },
    {
     "data": {
      "image/png": "[encoded data removed]",
      "text/plain": [
       "<Figure size 432x288 with 1 Axes>"
      ]
     },
     "metadata": {
      "needs_background": "light"
     },
     "output_type": "display_data"
    }
   ],
   "source": [
    "_, subset = get_df(troops, [\"Damage per Second\", \"Cost\"])\n",
    "subset.plot.scatter(x=\"Cost\", y=\"Damage per Second\")\n",
    "print(\"Correlation:\", subset[\"Cost\"].corr(subset[\"Damage per Second\"]))"
   ]
  },
  {
   "cell_type": "code",
   "execution_count": 21,
   "metadata": {
    "colab": {
     "base_uri": "https://localhost:8080/",
     "height": 299
    },
    "id": "MerInzwSE7w3",
    "outputId": "8cbe19fb-9a5d-4e7e-f428-de25f324ea4f"
   },
   "outputs": [
    {
     "name": "stdout",
     "output_type": "stream",
     "text": [
      "Correlation: 0.05054705387132034\n"
     ]
    },
    {
     "data": {
      "image/png": "[encoded data removed]",
      "text/plain": [
       "<Figure size 432x288 with 1 Axes>"
      ]
     },
     "metadata": {
      "needs_background": "light"
     },
     "output_type": "display_data"
    }
   ],
   "source": [
    "_, subset = get_df(troops, [\"Range\", \"Cost\"])\n",
    "subset.plot.scatter(x=\"Cost\", y=\"Range\")\n",
    "print(\"Correlation:\", subset[\"Cost\"].corr(subset[\"Range\"]))"
   ]
  },
  {
   "cell_type": "code",
   "execution_count": 22,
   "metadata": {},
   "outputs": [
    {
     "data": {
      "text/plain": [
       "{'Card': 'Archers',\n",
       " 'Cost': 3,\n",
       " 'Health (+Shield)': 304,\n",
       " 'Damage': 107,\n",
       " 'Hit Speed (seconds)': 1.1,\n",
       " 'Damage per Second': 97.0,\n",
       " 'Spawn/Death Damage': 0,\n",
       " 'Range': 5.0,\n",
       " 'Count': 2,\n",
       " 'Targets': 1,\n",
       " 'Speed': 1.0}"
      ]
     },
     "execution_count": 22,
     "metadata": {},
     "output_type": "execute_result"
    }
   ],
   "source": [
    "troops[0]"
   ]
  },
  {
   "cell_type": "code",
   "execution_count": 26,
   "metadata": {
    "colab": {
     "base_uri": "https://localhost:8080/",
     "height": 296
    },
    "id": "XxYjfnGzFgFn",
    "outputId": "ee62d819-159f-41e8-de91-e8d38960b580"
   },
   "outputs": [
    {
     "name": "stdout",
     "output_type": "stream",
     "text": [
      "Correlation: 0.6185601838511038\n"
     ]
    },
    {
     "data": {
      "image/png": "[encoded data removed]",
      "text/plain": [
       "<Figure size 432x288 with 1 Axes>"
      ]
     },
     "metadata": {
      "needs_background": "light"
     },
     "output_type": "display_data"
    }
   ],
   "source": [
    "# Example of adding a new column that combines existing ones\n",
    "_, s = get_df(\n",
    "    troops,\n",
    "    [\n",
    "        \"Damage per Second\",\n",
    "        \"Health (+Shield)\",\n",
    "        \"Cost\",\n",
    "        \"Count\",\n",
    "        \"Spawn/Death Damage\",\n",
    "        \"Range\",\n",
    "        \"Targets\",\n",
    "    ],\n",
    ")\n",
    "s[\"Benefit\"] = s[\"Count\"] * (\n",
    "    s[\"Health (+Shield)\"] * s[\"Damage per Second\"] * s[\"Targets\"]\n",
    "    + s[\"Spawn/Death Damage\"]\n",
    "    + s[\"Range\"]\n",
    ")\n",
    "s.plot.scatter(x=\"Cost\", y=\"Benefit\")\n",
    "print(\"Correlation:\", s[\"Cost\"].corr(s[\"Benefit\"]))"
   ]
  },
  {
   "cell_type": "code",
   "execution_count": null,
   "metadata": {},
   "outputs": [],
   "source": []
  }
 ],
 "metadata": {
  "colab": {
   "collapsed_sections": [
    "t2JUaefCyzou",
    "Bc0yjtuz0q2n",
    "hGeCCzYOVTEh",
    "tI7gZEs4VhDx",
    "WVQB8EFKVraD",
    "gYbBgAH-Lbv2",
    "QQIUJMigTIQp",
    "UfGp2HqNXMvC",
    "s11aTmXklxip",
    "EuDPFCB5u1ha",
    "k2eeLcuBxhCy",
    "nHrI9P0Q4kOS",
    "knPMie046Dmb",
    "fdkHwAJ76Hvb",
    "-NTSTbcU0_dc",
    "BRaixOtU1LtD",
    "DQORGQcs1lF7",
    "jVXpSEAUZtV1",
    "3GLjSAdU3xXr",
    "eAbzS5NsY8qT"
   ],
   "provenance": []
  },
  "kernelspec": {
   "display_name": "Python [conda env:skyrim] *",
   "language": "python",
   "name": "conda-env-skyrim-py"
  },
  "language_info": {
   "codemirror_mode": {
    "name": "ipython",
    "version": 3
   },
   "file_extension": ".py",
   "mimetype": "text/x-python",
   "name": "python",
   "nbconvert_exporter": "python",
   "pygments_lexer": "ipython3",
   "version": "3.9.7"
  }
 },
 "nbformat": 4,
 "nbformat_minor": 4
}
